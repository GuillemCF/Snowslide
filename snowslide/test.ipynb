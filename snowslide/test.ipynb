{
 "cells": [
  {
   "cell_type": "code",
   "execution_count": 1,
   "metadata": {},
   "outputs": [
    {
     "name": "stdout",
     "output_type": "stream",
     "text": [
      "2023-08-16 15:48:19.265997\n",
      "2023-08\n"
     ]
    }
   ],
   "source": [
    "from datetime import datetime\n",
    "date = datetime.now()\n",
    "date_time = date.strftime(\"%Y-%m\")\n",
    "print(date)\n",
    "print(date_time)"
   ]
  },
  {
   "cell_type": "code",
   "execution_count": 13,
   "metadata": {},
   "outputs": [
    {
     "data": {
      "text/plain": [
       "array([[[1, 1, 1],\n",
       "        [1, 1, 1]],\n",
       "\n",
       "       [[1, 1, 1],\n",
       "        [1, 1, 1]],\n",
       "\n",
       "       [[1, 1, 1],\n",
       "        [1, 1, 1]]])"
      ]
     },
     "execution_count": 13,
     "metadata": {},
     "output_type": "execute_result"
    }
   ],
   "source": [
    "import numpy as np \n",
    "test1 = np.array([[1,1,1],[1,1,1]])\n",
    "test = [test1,test1,test1]\n",
    "test = np.array(test)\n",
    "test"
   ]
  },
  {
   "cell_type": "code",
   "execution_count": 2,
   "metadata": {},
   "outputs": [
    {
     "name": "stderr",
     "output_type": "stream",
     "text": [
      "/Users/llemcf/opt/anaconda3/envs/lmd/lib/python3.8/site-packages/rasterio/__init__.py:314: NotGeoreferencedWarning: The given matrix is equal to Affine.identity or its flipped counterpart. GDAL may ignore this matrix and save no geotransform without raising an error. This behavior is somewhat driver-specific.\n",
      "  dataset = writer(\n",
      "/Users/llemcf/opt/anaconda3/envs/lmd/lib/python3.8/site-packages/pysheds/io.py:134: UserWarning: No `nodata` value detected. Defaulting to 0.\n",
      "  warnings.warn('No `nodata` value detected. Defaulting to 0.')\n",
      "/Users/llemcf/opt/anaconda3/envs/lmd/lib/python3.8/site-packages/pysheds/io.py:134: UserWarning: No `nodata` value detected. Defaulting to 0.\n",
      "  warnings.warn('No `nodata` value detected. Defaulting to 0.')\n"
     ]
    },
    {
     "ename": "TypeError",
     "evalue": "precipitations() takes 4 positional arguments but 6 were given",
     "output_type": "error",
     "traceback": [
      "\u001b[0;31m---------------------------------------------------------------------------\u001b[0m",
      "\u001b[0;31mTypeError\u001b[0m                                 Traceback (most recent call last)",
      "Cell \u001b[0;32mIn[2], line 2\u001b[0m\n\u001b[1;32m      1\u001b[0m \u001b[39mfrom\u001b[39;00m \u001b[39msnowslide_tests\u001b[39;00m \u001b[39mimport\u001b[39;00m test_mass_conservation\n\u001b[0;32m----> 2\u001b[0m \u001b[39mprint\u001b[39m(test_mass_conservation())\n",
      "File \u001b[0;32m~/Desktop/Stage_IGE_2023/Package_snowslide/snowslide/snowslide/snowslide_tests.py:75\u001b[0m, in \u001b[0;36mtest_mass_conservation\u001b[0;34m()\u001b[0m\n\u001b[1;32m     73\u001b[0m param_routing\u001b[39m=\u001b[39m{\u001b[39m\"\u001b[39m\u001b[39mrouting\u001b[39m\u001b[39m\"\u001b[39m:\u001b[39m'\u001b[39m\u001b[39mmfd\u001b[39m\u001b[39m'\u001b[39m,\u001b[39m\"\u001b[39m\u001b[39mpreprocessing\u001b[39m\u001b[39m\"\u001b[39m:\u001b[39mTrue\u001b[39;00m}\n\u001b[1;32m     74\u001b[0m param_prcpt\u001b[39m=\u001b[39m{\u001b[39m\"\u001b[39m\u001b[39minit\u001b[39m\u001b[39m\"\u001b[39m:\u001b[39mFalse\u001b[39;00m,\u001b[39m\"\u001b[39m\u001b[39mSND0\u001b[39m\u001b[39m\"\u001b[39m:\u001b[39mNone\u001b[39;00m,\u001b[39m\"\u001b[39m\u001b[39mquantity\u001b[39m\u001b[39m\"\u001b[39m:\u001b[39m1\u001b[39m,\u001b[39m\"\u001b[39m\u001b[39mtime\u001b[39m\u001b[39m\"\u001b[39m:\u001b[39m0\u001b[39m,\u001b[39m\"\u001b[39m\u001b[39misotherme\u001b[39m\u001b[39m\"\u001b[39m:\u001b[39m2500\u001b[39m,\u001b[39m\"\u001b[39m\u001b[39mzone\u001b[39m\u001b[39m\"\u001b[39m:\u001b[39mFalse\u001b[39;00m,\u001b[39m\"\u001b[39m\u001b[39mx\u001b[39m\u001b[39m\"\u001b[39m:\u001b[39mNone\u001b[39;00m,\u001b[39m\"\u001b[39m\u001b[39my\u001b[39m\u001b[39m\"\u001b[39m:\u001b[39mNone\u001b[39;00m}\n\u001b[0;32m---> 75\u001b[0m SND,convergence,SND_tot \u001b[39m=\u001b[39m snowslide_base(dem_path,resolution\u001b[39m=\u001b[39;49m\u001b[39m30\u001b[39;49m,param_routing\u001b[39m=\u001b[39;49mparam_routing,param_prcpt\u001b[39m=\u001b[39;49mparam_prcpt)\n\u001b[1;32m     77\u001b[0m total \u001b[39m=\u001b[39m np\u001b[39m.\u001b[39msum(np\u001b[39m.\u001b[39msum(SND_tot,axis\u001b[39m=\u001b[39m\u001b[39m1\u001b[39m),axis\u001b[39m=\u001b[39m\u001b[39m1\u001b[39m)\n\u001b[1;32m     78\u001b[0m grad \u001b[39m=\u001b[39m np\u001b[39m.\u001b[39mgradient(total)\n",
      "File \u001b[0;32m~/Desktop/Stage_IGE_2023/Package_snowslide/snowslide/snowslide/snowslide.py:286\u001b[0m, in \u001b[0;36msnowslide_base\u001b[0;34m(path_dem, save_path, epsilon, resolution, param_expo, param_routing, param_prcpt)\u001b[0m\n\u001b[1;32m    284\u001b[0m \u001b[39mif\u001b[39;00m param_prcpt[\u001b[39m\"\u001b[39m\u001b[39minit\u001b[39m\u001b[39m\"\u001b[39m] \u001b[39m==\u001b[39m \u001b[39mFalse\u001b[39;00m :\n\u001b[1;32m    285\u001b[0m     isotherme \u001b[39m=\u001b[39m param_prcpt[\u001b[39m\"\u001b[39m\u001b[39misotherme\u001b[39m\u001b[39m\"\u001b[39m]\n\u001b[0;32m--> 286\u001b[0m     SND \u001b[39m=\u001b[39m precipitations(path_dem,param_prcpt[\u001b[39m\"\u001b[39;49m\u001b[39mquantity\u001b[39;49m\u001b[39m\"\u001b[39;49m],param_prcpt[\u001b[39m\"\u001b[39;49m\u001b[39misotherme\u001b[39;49m\u001b[39m\"\u001b[39;49m],param_prcpt[\u001b[39m\"\u001b[39;49m\u001b[39mzone\u001b[39;49m\u001b[39m\"\u001b[39;49m],param_prcpt[\u001b[39m\"\u001b[39;49m\u001b[39mx\u001b[39;49m\u001b[39m\"\u001b[39;49m],param_prcpt[\u001b[39m\"\u001b[39;49m\u001b[39my\u001b[39;49m\u001b[39m\"\u001b[39;49m])\n\u001b[1;32m    287\u001b[0m \u001b[39melse\u001b[39;00m : \n\u001b[1;32m    288\u001b[0m     SND \u001b[39m=\u001b[39m param_prcpt[\u001b[39m\"\u001b[39m\u001b[39mSND0\u001b[39m\u001b[39m\"\u001b[39m]\n",
      "\u001b[0;31mTypeError\u001b[0m: precipitations() takes 4 positional arguments but 6 were given"
     ]
    }
   ],
   "source": [
    "from snowslide_tests import test_mass_conservation\n",
    "print(test_mass_conservation())"
   ]
  },
  {
   "cell_type": "code",
   "execution_count": null,
   "metadata": {},
   "outputs": [],
   "source": []
  },
  {
   "cell_type": "code",
   "execution_count": 126,
   "metadata": {},
   "outputs": [
    {
     "name": "stdout",
     "output_type": "stream",
     "text": [
      "1500\n",
      "500.0\n",
      "17\n"
     ]
    },
    {
     "data": {
      "text/plain": [
       "<matplotlib.colorbar.Colorbar at 0x7f7a5b4e06a0>"
      ]
     },
     "execution_count": 126,
     "metadata": {},
     "output_type": "execute_result"
    },
    {
     "data": {
      "image/png": "[encoded data removed]",
      "text/plain": [
       "<Figure size 640x480 with 2 Axes>"
      ]
     },
     "metadata": {},
     "output_type": "display_data"
    }
   ],
   "source": [
    "# Fonction de création d'un DEM idéalisé concave \n",
    "\n",
    "# Création du tableau parabolique \n",
    "import numpy as np\n",
    "import matplotlib.pyplot as plt\n",
    "\n",
    "# Création des coordonnées x, y\n",
    "nb_pixels = 50\n",
    "mean_slope = 2\n",
    "factor = 3\n",
    "resolution = 30\n",
    "\n",
    "width = nb_pixels*30\n",
    "diameter = width/factor\n",
    "height = mean_slope*((width/2)-diameter)\n",
    "\n",
    "x = np.arange(-width/2,width/2,resolution)\n",
    "y = np.arange(-width/2,width/2,resolution)\n",
    "X, Y = np.meshgrid(x, y)\n",
    "\n",
    "# Calcul des coordonnées Z pour former une parabole\n",
    "coef = height/(np.max(x)**2)\n",
    "Z = coef*X**2 + coef*Y**2\n",
    "\n",
    "index = int((width - diameter)/(2*resolution))+1\n",
    "flat_value=Z[int(nb_pixels/2),index]\n",
    "\n",
    "for i in range(nb_pixels) :\n",
    "    for j in range(nb_pixels) :\n",
    "        if ((i-(nb_pixels/2))**2 + (j-(nb_pixels/2))**2) < (diameter/(2*resolution))**2 : # Pour le cercle du milieu en gros \n",
    "            Z[i,j] = flat_value\n",
    "\n",
    "plt.imshow(Z)\n",
    "plt.colorbar()"
   ]
  },
  {
   "cell_type": "code",
   "execution_count": 127,
   "metadata": {},
   "outputs": [
    {
     "data": {
      "text/plain": [
       "[<matplotlib.lines.Line2D at 0x7f7a61cbd190>]"
      ]
     },
     "execution_count": 127,
     "metadata": {},
     "output_type": "execute_result"
    },
    {
     "data": {
      "image/png": "[encoded data removed]",
      "text/plain": [
       "<Figure size 640x480 with 1 Axes>"
      ]
     },
     "metadata": {},
     "output_type": "display_data"
    }
   ],
   "source": [
    "plt.plot(Z[25,:])"
   ]
  },
  {
   "cell_type": "code",
   "execution_count": 2,
   "metadata": {},
   "outputs": [
    {
     "data": {
      "text/plain": [
       "<matplotlib.colorbar.Colorbar at 0x7fd348cceee0>"
      ]
     },
     "execution_count": 2,
     "metadata": {},
     "output_type": "execute_result"
    },
    {
     "data": {
      "image/png": "[encoded data removed]",
      "text/plain": [
       "<Figure size 640x480 with 2 Axes>"
      ]
     },
     "metadata": {},
     "output_type": "display_data"
    }
   ],
   "source": [
    "from snowslide_tests import ideal_concave_dem\n",
    "import matplotlib.pyplot as plt\n",
    "\n",
    "nb_pixels=50\n",
    "mean_slope=2\n",
    "factor=3\n",
    "dem = ideal_concave_dem(nb_pixels,mean_slope,factor)\n",
    "\n",
    "plt.imshow(dem)\n",
    "plt.colorbar()\n"
   ]
  },
  {
   "cell_type": "code",
   "execution_count": null,
   "metadata": {},
   "outputs": [],
   "source": []
  },
  {
   "cell_type": "code",
   "execution_count": 84,
   "metadata": {},
   "outputs": [
    {
     "data": {
      "text/plain": [
       "1500"
      ]
     },
     "execution_count": 84,
     "metadata": {},
     "output_type": "execute_result"
    }
   ],
   "source": [
    "30*50"
   ]
  },
  {
   "cell_type": "markdown",
   "metadata": {},
   "source": [
    "$$ nb_{pixel} = distance/30 $$\n",
    "$$ Mean_{slope} = \\frac{dH}{\\frac{distance}{2} - rayon} $$\n",
    "Donc on peut déduire de ça moyennant d'imposer le rayon de calculer le dH et la distance qui sont les distances en x et en z associées...\n",
    "Trouver la relation pour que le rayon et son altitude soient calculés directement. \n",
    "$$ factor = width/radius $$"
   ]
  },
  {
   "cell_type": "code",
   "execution_count": 90,
   "metadata": {},
   "outputs": [
    {
     "data": {
      "text/plain": [
       "1.3333333333333333"
      ]
     },
     "execution_count": 90,
     "metadata": {},
     "output_type": "execute_result"
    }
   ],
   "source": [
    "400/(10*30)"
   ]
  },
  {
   "cell_type": "code",
   "execution_count": null,
   "metadata": {},
   "outputs": [],
   "source": []
  },
  {
   "cell_type": "code",
   "execution_count": null,
   "metadata": {},
   "outputs": [],
   "source": [
    "### Compréhension des modules OGGM elevation_band_flowline\n",
    "import numpy as np \n",
    "import panda as pd\n",
    "import utils, cfg\n",
    "\n",
    "def elevation_band_flowline(gdir, bin_variables=None, preserve_totals=True):\n",
    "    \"\"\"Compute \"squeezed\" or \"collapsed\" glacier flowlines from Huss 2012.\n",
    "\n",
    "    This writes out a table of along glacier bins, strictly following the\n",
    "    method described in Werder, M. A., Huss, M., Paul, F., Dehecq, A. and\n",
    "    Farinotti, D.: A Bayesian ice thickness estimation model for large-scale\n",
    "    applications, J. Glaciol., 1–16, doi:10.1017/jog.2019.93, 2019.\n",
    "\n",
    "    The only parameter is cfg.PARAMS['elevation_band_flowline_binsize'],\n",
    "    which is 30m in Werder et al and 10m in Huss&Farinotti2012.\n",
    "\n",
    "    Currently the bands are assumed to have a rectangular bed.\n",
    "\n",
    "    Before calling this task you should run `tasks.define_glacier_region`\n",
    "    and `gis.simple_glacier_masks`. The logical following task is\n",
    "    `fixed_dx_elevation_band_flowline` to convert this to an OGGM flowline.\n",
    "\n",
    "    Parameters\n",
    "    ----------\n",
    "    gdir : :py:class:`oggm.GlacierDirectory`\n",
    "        where to write the data\n",
    "    bin_variables : str or list of str\n",
    "        variables to add to the binned flowline\n",
    "    preserve_totals : bool or list of bool\n",
    "        whether or not to preserve the variables totals (e.g. volume)\n",
    "    \"\"\"\n",
    "\n",
    "    # Variables\n",
    "    bin_variables = [] if bin_variables is None else utils.tolist(bin_variables)\n",
    "    out_vars = []\n",
    "    out_totals = []\n",
    "    grids_file = gdir.get_filepath('gridded_data')\n",
    "    with utils.ncDataset(grids_file) as nc:\n",
    "        glacier_mask = nc.variables['glacier_mask'][:] == 1\n",
    "        topo = nc.variables['topo_smoothed'][:]\n",
    "\n",
    "        # Check if there and do not raise when not available\n",
    "        keep = []\n",
    "        for var in bin_variables:\n",
    "            if var in nc.variables:\n",
    "                keep.append(var)\n",
    "            else:\n",
    "                log.warning('{}: var `{}` not found in gridded_data.'\n",
    "                            ''.format(gdir.rgi_id, var))\n",
    "        bin_variables = keep\n",
    "        for var in bin_variables:\n",
    "            data = nc.variables[var][:]\n",
    "            out_totals.append(np.nansum(data) * gdir.grid.dx ** 2)\n",
    "            out_vars.append(data[glacier_mask])\n",
    "\n",
    "    preserve_totals = utils.tolist(preserve_totals, length=len(bin_variables))\n",
    "\n",
    "    # Slope\n",
    "    sy, sx = np.gradient(topo, gdir.grid.dx)\n",
    "    slope = np.arctan(np.sqrt(sx ** 2 + sy ** 2))\n",
    "\n",
    "    # Clip following Werder et al 2019\n",
    "    slope = utils.clip_array(slope, np.deg2rad(0.4), np.deg2rad(60))\n",
    "    # En gros les pentes inf à 0.4 sont fixées à 0.4 et sup à 60 sont fixées à 60... Comme dit dans l'article. \n",
    "\n",
    "    topo = topo[glacier_mask]\n",
    "    slope = slope[glacier_mask]\n",
    "\n",
    "    bsize = cfg.PARAMS['elevation_band_flowline_binsize'] # Taille de la bin\n",
    "\n",
    "    # Make nice bins ensuring to cover the full range with the given bin size\n",
    "    maxb = utils.nicenumber(np.max(topo), bsize)\n",
    "    minb = utils.nicenumber(np.min(topo), bsize, lower=True)\n",
    "    bins = np.arange(minb, maxb + 0.01, bsize)\n",
    "\n",
    "    # Some useful constants\n",
    "    min_alpha = np.deg2rad(0.4)\n",
    "    max_alpha = np.deg2rad(60)\n",
    "\n",
    "    if len(bins) < 3:\n",
    "        # Very low elevation range\n",
    "        bsize = cfg.PARAMS['elevation_band_flowline_binsize'] / 3\n",
    "        maxb = utils.nicenumber(np.max(topo), bsize)\n",
    "        minb = utils.nicenumber(np.min(topo), bsize, lower=True)\n",
    "        bins = np.arange(minb, maxb + 0.01, bsize)\n",
    "        if len(bins) < 3:\n",
    "            # Ok this just not gonna work\n",
    "            raise InvalidDEMError('({}) DEM altidude range too small.'\n",
    "                                  .format(gdir.rgi_id))\n",
    "\n",
    "    # Go - binning\n",
    "    df = pd.DataFrame() # On créé un dataframe panda \n",
    "    topo_digi = np.digitize(topo, bins) - 1  # I prefer the left\n",
    "    # np.digitize(x,bins) : retourne les indices des 'bins' auxquelles chaque valeur de l'array x appartiennent.\n",
    "    # C'est donc un tableau d'indice de même taille que x. \n",
    "    for bi in range(len(bins) - 1):\n",
    "        # The coordinates of the current bin\n",
    "        bin_coords = topo_digi == bi\n",
    "\n",
    "        # Bin area\n",
    "        bin_area = np.sum(bin_coords) * gdir.grid.dx ** 2\n",
    "        if bin_area == 0:\n",
    "            # Ignored in this case - which I believe is strange because deltaH\n",
    "            # should be larger for the previous bin, but this is what they do\n",
    "            # according to Zekollari 2019 review\n",
    "            df.loc[bi, 'area'] = np.NaN\n",
    "            continue\n",
    "        df.loc[bi, 'area'] = bin_area\n",
    "        # ds.loc() --> Access a group of rows and columns by label(s) or a boolean array.\n",
    "        \n",
    "        # Bin average elevation\n",
    "        df.loc[bi, 'mean_elevation'] = np.mean(topo[bin_coords])\n",
    "\n",
    "        # Bin averge slope\n",
    "        # there are a few more shenanigans here described in Werder et al 2019\n",
    "        s_bin = slope[bin_coords]\n",
    "        # between the 5% percentile and the x% percentile where x is some magic\n",
    "        qmin = np.quantile(s_bin, 0.05)\n",
    "        x = max(2 * np.quantile(s_bin, 0.2) / np.quantile(s_bin, 0.8), 0.55)\n",
    "        x = min(x, 0.95)\n",
    "        qmax = np.quantile(s_bin, x)\n",
    "        sel_s_bin = s_bin[(s_bin >= qmin) & (s_bin <= qmax)]\n",
    "        if len(sel_s_bin) == 0:\n",
    "            # This can happen when n pix is small. In this case we just avg\n",
    "            avg_s = np.mean(s_bin)\n",
    "        else:\n",
    "            avg_s = np.mean(sel_s_bin)\n",
    "\n",
    "        # Final clip as in Werder et al 2019\n",
    "        df.loc[bi, 'slope'] = utils.clip_scalar(avg_s, min_alpha, max_alpha)\n",
    "\n",
    "        # Binned variables\n",
    "        with warnings.catch_warnings():\n",
    "            # This can trigger an empty mean warning\n",
    "            warnings.filterwarnings(\"ignore\", category=RuntimeWarning)\n",
    "            for var, data in zip(bin_variables, out_vars):\n",
    "                df.loc[bi, var] = np.nanmean(data[bin_coords])\n",
    "\n",
    "    # The grid point's grid spacing and widths\n",
    "    df['bin_elevation'] = (bins[1:] + bins[:-1]) / 2\n",
    "    df['dx'] = bsize / np.tan(df['slope'])\n",
    "    df['width'] = df['area'] / df['dx']\n",
    "\n",
    "    # Remove possible NaNs from above\n",
    "    if not bin_variables:\n",
    "        df = df.dropna()\n",
    "    else:\n",
    "        # only remove if all bin_variables are NaN\n",
    "        df = df.dropna(how='all', subset=bin_variables)\n",
    "\n",
    "    # Check for binned vars\n",
    "    for var, data, in_total, do_p in zip(bin_variables, out_vars, out_totals,\n",
    "                                         preserve_totals):\n",
    "        if do_p:\n",
    "            out_total = np.nansum(df[var] * df['area'])\n",
    "            if out_total > 0:\n",
    "                df[var] *= in_total / out_total\n",
    "\n",
    "    # In OGGM we go from top to bottom\n",
    "    df = df[::-1]\n",
    "\n",
    "    # The x coordinate in meter - this is a bit arbitrary but we put it at the\n",
    "    # center of the irregular grid (better for interpolation later\n",
    "    dx = df['dx'].values\n",
    "    dx_points = np.append(dx[0]/2, (dx[:-1] + dx[1:]) / 2)\n",
    "    df.index = np.cumsum(dx_points)\n",
    "    df.index.name = 'dis_along_flowline'\n",
    "\n",
    "    # Store and return\n",
    "    df.to_csv(gdir.get_filepath('elevation_band_flowline'))\n",
    "\n",
    "\n",
    "@entity_task(log, writes=['inversion_flowlines'])\n",
    "def fixed_dx_elevation_band_flowline(gdir, bin_variables=None,\n",
    "                                     preserve_totals=True):\n",
    "    \"\"\"Converts the \"collapsed\" flowline into a regular \"inversion flowline\".\n",
    "\n",
    "    You need to run `tasks.elevation_band_flowline` first. It then interpolates\n",
    "    onto a regular grid with the same dx as the one that OGGM would choose\n",
    "    (cfg.PARAMS['flowline_dx'] * map_dx).\n",
    "\n",
    "    Parameters\n",
    "    ----------\n",
    "    gdir : :py:class:`oggm.GlacierDirectory`\n",
    "        where to write the data\n",
    "    bin_variables : str or list of str\n",
    "        variables to add to the interpolated flowline (will be stored in a new\n",
    "        csv file: gdir.get_filepath('elevation_band_flowline',\n",
    "        filesuffix='_fixed_dx').\n",
    "    preserve_totals : bool or list of bool\n",
    "        whether or not to preserve the variables totals (e.g. volume)\n",
    "    \"\"\"\n",
    "\n",
    "    df = pd.read_csv(gdir.get_filepath('elevation_band_flowline'), index_col=0)\n",
    "\n",
    "    map_dx = gdir.grid.dx\n",
    "    dx = cfg.PARAMS['flowline_dx']\n",
    "    dx_meter = dx * map_dx\n",
    "    nx = int(df.dx.sum() / dx_meter)\n",
    "    dis_along_flowline = dx_meter / 2 + np.arange(nx) * dx_meter\n",
    "\n",
    "    while dis_along_flowline[-1] > df.index[-1]:\n",
    "        # do not extrapolate\n",
    "        dis_along_flowline = dis_along_flowline[:-1]\n",
    "\n",
    "    while dis_along_flowline[0] < df.index[0]:\n",
    "        # do not extrapolate\n",
    "        dis_along_flowline = dis_along_flowline[1:]\n",
    "\n",
    "    nx = len(dis_along_flowline)\n",
    "\n",
    "    # Interpolate the data we need\n",
    "    hgts = np.interp(dis_along_flowline, df.index, df['mean_elevation'])\n",
    "    widths_m = np.interp(dis_along_flowline, df.index, df['width'])\n",
    "\n",
    "    # Correct the widths - area preserving\n",
    "    area = np.sum(widths_m * dx_meter)\n",
    "    fac = gdir.rgi_area_m2 / area\n",
    "    log.debug('(%s) corrected widths with a factor %.2f', gdir.rgi_id, fac)\n",
    "    widths_m *= fac\n",
    "\n",
    "    # Additional vars\n",
    "    if bin_variables is not None:\n",
    "        bin_variables = utils.tolist(bin_variables)\n",
    "\n",
    "        # Check if there and do not raise when not available\n",
    "        keep = []\n",
    "        for var in bin_variables:\n",
    "            if var in df:\n",
    "                keep.append(var)\n",
    "            else:\n",
    "                log.warning('{}: var `{}` not found in gridded_data.'\n",
    "                            ''.format(gdir.rgi_id, var))\n",
    "        bin_variables = keep\n",
    "\n",
    "        preserve_totals = utils.tolist(preserve_totals,\n",
    "                                       length=len(bin_variables))\n",
    "        odf = pd.DataFrame(index=dis_along_flowline)\n",
    "        odf.index.name = 'dis_along_flowline'\n",
    "        odf['widths_m'] = widths_m\n",
    "        odf['area_m2'] = widths_m * dx_meter\n",
    "        for var, do_p in zip(bin_variables, preserve_totals):\n",
    "            interp = np.interp(dis_along_flowline, df.index, df[var])\n",
    "            if do_p:\n",
    "                in_total = np.nansum(df[var] * df['area'])\n",
    "                out_total = np.nansum(interp * widths_m * dx_meter)\n",
    "                if out_total > 0:\n",
    "                    with warnings.catch_warnings():\n",
    "                        # This can trigger a double error\n",
    "                        warnings.filterwarnings(\"ignore\", category=RuntimeWarning)\n",
    "                        interp *= in_total / out_total\n",
    "            odf[var] = interp\n",
    "        odf.to_csv(gdir.get_filepath('elevation_band_flowline',\n",
    "                                     filesuffix='_fixed_dx'))\n",
    "\n",
    "    # Write as a Centerline object\n",
    "    fl = Centerline(None, dx=dx, surface_h=hgts, rgi_id=gdir.rgi_id,\n",
    "                    map_dx=map_dx)\n",
    "    fl.order = 0\n",
    "    fl.widths = widths_m / map_dx\n",
    "    fl.is_rectangular = np.zeros(nx, dtype=bool)\n",
    "    fl.is_trapezoid = np.ones(nx, dtype=bool)\n",
    "\n",
    "    if gdir.is_tidewater:\n",
    "        fl.is_rectangular[-5:] = True\n",
    "        fl.is_trapezoid[-5:] = False\n",
    "\n",
    "    gdir.write_pickle([fl], 'inversion_flowlines')\n",
    "    gdir.add_to_diagnostics('flowline_type', 'elevation_band')"
   ]
  },
  {
   "cell_type": "code",
   "execution_count": null,
   "metadata": {},
   "outputs": [],
   "source": []
  }
 ],
 "metadata": {
  "kernelspec": {
   "display_name": "lmd",
   "language": "python",
   "name": "python3"
  },
  "language_info": {
   "codemirror_mode": {
    "name": "ipython",
    "version": 3
   },
   "file_extension": ".py",
   "mimetype": "text/x-python",
   "name": "python",
   "nbconvert_exporter": "python",
   "pygments_lexer": "ipython3",
   "version": "3.8.15"
  },
  "orig_nbformat": 4
 },
 "nbformat": 4,
 "nbformat_minor": 2
}
