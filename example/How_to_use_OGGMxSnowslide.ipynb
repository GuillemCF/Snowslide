{
 "cells": [
  {
   "cell_type": "markdown",
   "id": "c10fd154-c7eb-44ab-a3f6-203e0c3b9f81",
   "metadata": {},
   "source": [
    "# Using SNOWSLIDE in the OGGM Workflow\n",
    "\n",
    "Ce notebook a pour objectif de guider l'utilisateur à travers l'utilisation de snowslide combiné au workflow OGGM. Il nécessite le téléchargement du package snowslide : 'https://github.com/GuillemCF/Snowslide.git'. Les informations relatives à l'utilisation de ce package sont disponibles dans le readme. Il nécessite également l'installation du modèle oggm dont les détails d'installation peuvent être retrouvés à l'adresse suivante : 'https://docs.oggm.org/en/stable/installing-oggm.html'.\n",
    "Une fois installés, l'utilisateur devra se plaver dans un environnement où snowslide et oggm sont évidemment installés (ex oggm_env comme expliqué dans le tutoriel d'installation d'OGGM)"
   ]
  },
  {
   "cell_type": "code",
   "execution_count": null,
   "id": "eb728ce4",
   "metadata": {
    "tags": []
   },
   "outputs": [],
   "source": [
    "# Importation des librairies nécessaires à OGGM\n",
    "from oggm import cfg\n",
    "from oggm import tasks, utils, workflow\n",
    "import numpy as np\n",
    "import pandas as pd\n",
    "import xarray as xr\n",
    "import matplotlib.pyplot as plt"
   ]
  },
  {
   "cell_type": "code",
   "execution_count": null,
   "id": "80507f75-e57a-4ad7-af11-9406544ae5ee",
   "metadata": {},
   "outputs": [],
   "source": [
    "import warnings\n",
    "# Some annoying warnings sometimes\n",
    "warnings.filterwarnings(action='ignore', category=UserWarning)"
   ]
  },
  {
   "cell_type": "markdown",
   "id": "03a90daf-0095-48db-b8ac-e375f92b2a8e",
   "metadata": {},
   "source": [
    "## Pick a glacier \n",
    "On initialise le workflow et on créé un dossier qui contiendra tous les directories propres au fonctionnement d'OGGM. Modifier dir_path par le chemin d'accès au dossier où on veut que les données soient écrites. "
   ]
  },
  {
   "cell_type": "code",
   "execution_count": null,
   "id": "504b03c3",
   "metadata": {
    "tags": []
   },
   "outputs": [],
   "source": [
    "# Initialize OGGM and set up the default run parameters\n",
    "cfg.initialize(logging_level='INFO')\n",
    "dir_path = utils.get_temp_dir('snowslide')\n",
    "# Local working directory (where OGGM will write its output)\n",
    "cfg.PATHS['working_dir'] = utils.mkdir(dir_path)"
   ]
  },
  {
   "cell_type": "markdown",
   "id": "c31bf7a1",
   "metadata": {},
   "source": [
    "On choisit les glaciers sur lesquels on veut travailler et on rendre leur index RGI dans une liste rgi_ids. Dans cet exemple on ne le fait que sur un seul glacier (mais on peut rentrer une liste de rgi_ids)"
   ]
  },
  {
   "cell_type": "code",
   "execution_count": null,
   "id": "4c86bebf",
   "metadata": {
    "tags": []
   },
   "outputs": [],
   "source": [
    "# rgi_ids = ['RGI60-11.01450']  # This is Aletsch\n",
    "# rgi_ids = ['RGI60-11.00897']  # This is Hintereisferner\n",
    "rgi_ids = ['RGI60-11.03466','RGI60-11.00897']  # This is Talefre\n",
    "\n",
    "# This is the url with loads of data (dhdt, velocities, etc)\n",
    "base_url = 'https://cluster.klima.uni-bremen.de/~oggm/gdirs/oggm_v1.6/L3-L5_files/2023.1/elev_bands/W5E5_w_data/'\n",
    "\n",
    "# Can be replaced with\n",
    "# https://cluster.klima.uni-bremen.de/~oggm/gdirs/oggm_v1.6/L3-L5_files/2023.1/elev_bands/W5E5\n",
    "# for much less data\n",
    "\n",
    "# This gets the data for this glacier - download can be a bit long because of all the data\n",
    "gdirs = workflow.init_glacier_directories(rgi_ids, prepro_base_url=base_url, from_prepro_level=3, prepro_border=80)"
   ]
  },
  {
   "cell_type": "markdown",
   "id": "aa8c9eb2",
   "metadata": {},
   "source": [
    "A ce stade les glacier_directories ont été créés et les données de base y sont présentes (voir dans le dossier indiqué avec dir_path). La task incluant snowslide dans OGGM a donc pour objectif de récupérer ces données, lancer une simulation snowslide et réécrire les sorties dans les glacier_directories. Aussi simple que ça !"
   ]
  },
  {
   "cell_type": "markdown",
   "id": "11e46119-d4e3-43a1-8711-f6ff05f5a130",
   "metadata": {},
   "source": [
    "## A task with OGGM "
   ]
  },
  {
   "cell_type": "markdown",
   "id": "796d26cb",
   "metadata": {},
   "source": [
    "On importe snowslide sous forme de task OGGM (foction associée au package python et intitulée 'oggm_snowslide_compat)\n"
   ]
  },
  {
   "cell_type": "code",
   "execution_count": null,
   "id": "0b2815f2-f605-4cde-830a-123c09313f3c",
   "metadata": {},
   "outputs": [],
   "source": [
    "from snowslide import oggm_snowslide_compat"
   ]
  },
  {
   "cell_type": "code",
   "execution_count": null,
   "id": "c6444d18-70db-4440-a8bb-e6bab29ee0be",
   "metadata": {},
   "outputs": [],
   "source": [
    "# run the tasks\n",
    "workflow.execute_entity_task(oggm_snowslide_compat.snowslide_to_gdir, gdirs)"
   ]
  },
  {
   "cell_type": "markdown",
   "id": "2f9e73a2",
   "metadata": {},
   "source": [
    "La task a été lancée et snowslide a tourné, les résultats sont enregistré dans le fichier gridded_data sous la forme 'snowslide_1m_avalanches'. On a également créé une fonction qui calcule des statistiques pour les glaciers sélectionnés avec notamment : le dépôt moyen due aux avalanches sur le glacier, l'aire de dépôt et le volume total de dépôt dues aux avalanches. Il faut noter que pour l'instant avec cette task l'utilisateur n'a pas le choix dans l'initialisation des hauteurs de neige qui se fait avec 1m de neige partout sur le dem. (il sera très facile de laisser le choix à l'utilisateur d'implémenter avec des données réelles par la suite...). Les statistiques sont accessibles avec les commandes suivantes : "
   ]
  },
  {
   "cell_type": "code",
   "execution_count": null,
   "id": "43c7d205-583a-491d-936d-c29fa38b63b2",
   "metadata": {},
   "outputs": [],
   "source": [
    "# run the tasks\n",
    "df = oggm_snowslide_compat.compile_snowslide_statistics(gdirs)"
   ]
  },
  {
   "cell_type": "code",
   "execution_count": null,
   "metadata": {},
   "outputs": [],
   "source": [
    "dfb_ava, dfb_area = oggm_snowslide_compat.compile_binned_statistics(gdirs)"
   ]
  },
  {
   "cell_type": "code",
   "execution_count": null,
   "metadata": {},
   "outputs": [],
   "source": [
    "dfb_area.sum(axis=1) * 1e-6"
   ]
  },
  {
   "cell_type": "code",
   "execution_count": null,
   "metadata": {},
   "outputs": [],
   "source": [
    "[gdir.rgi_area_km2 for gdir in gdirs]"
   ]
  },
  {
   "cell_type": "code",
   "execution_count": null,
   "metadata": {},
   "outputs": [],
   "source": [
    "dfb_area.T.plot();"
   ]
  },
  {
   "cell_type": "code",
   "execution_count": null,
   "metadata": {},
   "outputs": [],
   "source": [
    "dfb_ava.T.plot();"
   ]
  },
  {
   "cell_type": "code",
   "execution_count": null,
   "metadata": {},
   "outputs": [],
   "source": []
  }
 ],
 "metadata": {
  "kernelspec": {
   "display_name": "Python 3 (ipykernel)",
   "language": "python",
   "name": "python3"
  },
  "language_info": {
   "codemirror_mode": {
    "name": "ipython",
    "version": 3
   },
   "file_extension": ".py",
   "mimetype": "text/x-python",
   "name": "python",
   "nbconvert_exporter": "python",
   "pygments_lexer": "ipython3",
   "version": "3.11.4"
  }
 },
 "nbformat": 4,
 "nbformat_minor": 5
}
