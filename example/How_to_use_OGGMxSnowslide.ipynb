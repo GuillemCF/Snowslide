{
 "cells": [
  {
   "cell_type": "markdown",
   "id": "c10fd154-c7eb-44ab-a3f6-203e0c3b9f81",
   "metadata": {},
   "source": [
    "# Using SNOWSLIDE in the OGGM Workflow\n",
    "\n",
    "Ce notebook a pour objectif de guider l'utilisateur à travers l'utilisation de snowslide combiné au workflow OGGM. Il nécessite le téléchargement du package snowslide : 'https://github.com/GuillemCF/Snowslide.git'. Les informations relatives à l'utilisation de ce package sont disponibles dans le readme. Il nécessite également l'installation du modèle oggm dont les détails d'installation peuvent être retrouvés à l'adresse suivante : 'https://docs.oggm.org/en/stable/installing-oggm.html'.\n",
    "Une fois installés, l'utilisateur devra se plaver dans un environnement où snowslide et oggm sont évidemment installés (ex oggm_env comme expliqué dans le tutoriel d'installation d'OGGM)"
   ]
  },
  {
   "cell_type": "code",
   "execution_count": 8,
   "id": "eb728ce4",
   "metadata": {
    "tags": []
   },
   "outputs": [],
   "source": [
    "# Importation des librairies nécessaires à OGGM\n",
    "from oggm import cfg\n",
    "from oggm import tasks, utils, workflow, graphics\n",
    "from oggm.core import massbalance\n",
    "import numpy as np\n",
    "import pandas as pd\n",
    "import xarray as xr\n",
    "import matplotlib.pyplot as plt"
   ]
  },
  {
   "cell_type": "code",
   "execution_count": 9,
   "id": "80507f75-e57a-4ad7-af11-9406544ae5ee",
   "metadata": {},
   "outputs": [],
   "source": [
    "import warnings\n",
    "# Some annoying warnings sometimes\n",
    "warnings.filterwarnings(action='ignore', category=UserWarning)"
   ]
  },
  {
   "cell_type": "markdown",
   "id": "03a90daf-0095-48db-b8ac-e375f92b2a8e",
   "metadata": {},
   "source": [
    "## Pick a glacier \n",
    "On initialise le workflow et on créé un dossier qui contiendra tous les directories propres au fonctionnement d'OGGM. Modifier dir_path par le chemin d'accès au dossier où on veut que les données soient écrites. "
   ]
  },
  {
   "cell_type": "code",
   "execution_count": 10,
   "id": "504b03c3",
   "metadata": {
    "tags": []
   },
   "outputs": [
    {
     "name": "stderr",
     "output_type": "stream",
     "text": [
      "2023-11-09 11:51:21: oggm.cfg: Reading default parameters from the OGGM `params.cfg` configuration file.\n",
      "2023-11-09 11:51:21: oggm.cfg: Multiprocessing switched OFF according to the parameter file.\n",
      "2023-11-09 11:51:21: oggm.cfg: Multiprocessing: using all available processors (N=8)\n"
     ]
    }
   ],
   "source": [
    "# Initialize OGGM and set up the default run parameters\n",
    "cfg.initialize(logging_level='INFO')\n",
    "dir_path = utils.get_temp_dir('snowslide')\n",
    "# Local working directory (where OGGM will write its output)\n",
    "cfg.PATHS['working_dir'] = utils.mkdir(dir_path)"
   ]
  },
  {
   "cell_type": "markdown",
   "id": "c31bf7a1",
   "metadata": {},
   "source": [
    "On choisit les glaciers sur lesquels on veut travailler et on rendre leur index RGI dans une liste rgi_ids. Dans cet exemple on ne le fait que sur un seul glacier (mais on peut rentrer une liste de rgi_ids)"
   ]
  },
  {
   "cell_type": "code",
   "execution_count": 11,
   "id": "4c86bebf",
   "metadata": {
    "tags": []
   },
   "outputs": [
    {
     "name": "stderr",
     "output_type": "stream",
     "text": [
      "2023-11-09 11:51:21: oggm.workflow: init_glacier_directories from prepro level 3 on 2 glaciers.\n",
      "2023-11-09 11:51:21: oggm.workflow: Execute entity tasks [gdir_from_prepro] on 2 glaciers\n"
     ]
    }
   ],
   "source": [
    "# rgi_ids = ['RGI60-11.01450']  # This is Aletsch\n",
    "# rgi_ids = ['RGI60-11.00897']  # This is Hintereisferner\n",
    "rgi_ids = ['RGI60-11.03466','RGI60-11.00897']  # This is Talefre \n",
    "\n",
    "# This is the url with loads of data (dhdt, velocities, etc)\n",
    "base_url = 'https://cluster.klima.uni-bremen.de/~oggm/gdirs/oggm_v1.6/L3-L5_files/2023.1/elev_bands/W5E5_w_data/'\n",
    "\n",
    "# Can be replaced with \n",
    "# https://cluster.klima.uni-bremen.de/~oggm/gdirs/oggm_v1.6/L3-L5_files/2023.1/elev_bands/W5E5 \n",
    "# for smaller data\n",
    "\n",
    "# This gets the data for this glacier - download can be a bit long because of all the data\n",
    "gdirs = workflow.init_glacier_directories(rgi_ids, prepro_base_url=base_url, from_prepro_level=3, prepro_border=80)"
   ]
  },
  {
   "cell_type": "markdown",
   "id": "aa8c9eb2",
   "metadata": {},
   "source": [
    "A ce stade les glacier_directories ont été créés et les données de base y sont présentes (voir dans le dossier indiqué avec dir_path). La task incluant snowslide dans OGGM a donc pour objectif de récupérer ces données, lancer une simulation snowslide et réécrire les sorties dans les glacier_directories. Aussi simple que ça !"
   ]
  },
  {
   "cell_type": "markdown",
   "id": "11e46119-d4e3-43a1-8711-f6ff05f5a130",
   "metadata": {},
   "source": [
    "## A task with OGGM "
   ]
  },
  {
   "cell_type": "markdown",
   "id": "796d26cb",
   "metadata": {},
   "source": [
    "On importe snowslide sous forme de task OGGM (foction associée au package python et intitulée 'oggm_snowslide_compat)\n"
   ]
  },
  {
   "cell_type": "code",
   "execution_count": 12,
   "id": "0b2815f2-f605-4cde-830a-123c09313f3c",
   "metadata": {},
   "outputs": [],
   "source": [
    "from snowslide import oggm_snowslide_compat"
   ]
  },
  {
   "cell_type": "code",
   "execution_count": 13,
   "id": "c6444d18-70db-4440-a8bb-e6bab29ee0be",
   "metadata": {},
   "outputs": [
    {
     "name": "stderr",
     "output_type": "stream",
     "text": [
      "2023-11-09 11:51:22: oggm.workflow: Execute entity tasks [snowslide_to_gdir] on 2 glaciers\n",
      "2023-11-09 11:51:22: snowslide.oggm_snowslide_compat: (RGI60-11.03466) snowslide_to_gdir\n",
      "2023-11-09 11:51:24: snowslide.snowslide_main: (RGI60-11.03466) the algorithm converged in 60 iterations\n",
      "2023-11-09 11:51:24: snowslide.oggm_snowslide_compat: (RGI60-11.00897) snowslide_to_gdir\n",
      "2023-11-09 11:51:25: snowslide.snowslide_main: (RGI60-11.00897) the algorithm converged in 34 iterations\n"
     ]
    },
    {
     "data": {
      "text/plain": [
       "[None, None]"
      ]
     },
     "execution_count": 13,
     "metadata": {},
     "output_type": "execute_result"
    }
   ],
   "source": [
    "# run the tasks\n",
    "workflow.execute_entity_task(oggm_snowslide_compat.snowslide_to_gdir, gdirs)"
   ]
  },
  {
   "cell_type": "markdown",
   "id": "2f9e73a2",
   "metadata": {},
   "source": [
    "La task a été lancée et snowslide a tourné, les résultats sont enregistré dans le fichier gridded_data sous la forme 'snowslide_1m_avalanches'. On a également créé une fonction qui calcule des statistiques pour les glaciers sélectionnés avec notamment : le dépôt moyen due aux avalanches sur le glacier, l'aire de dépôt et le volume total de dépôt dues aux avalanches. Il faut noter que pour l'instant avec cette task l'utilisateur n'a pas le choix dans l'initialisation des hauteurs de neige qui se fait avec 1m de neige partout sur le dem. (il sera très facile de laisser le choix à l'utilisateur d'implémenter avec des données réelles par la suite...). Les statistiques sont accessibles avec les commandes suivantes : "
   ]
  },
  {
   "cell_type": "code",
   "execution_count": null,
   "id": "43c7d205-583a-491d-936d-c29fa38b63b2",
   "metadata": {},
   "outputs": [],
   "source": []
  }
 ],
 "metadata": {
  "kernelspec": {
   "display_name": "Python 3 (ipykernel)",
   "language": "python",
   "name": "python3"
  },
  "language_info": {
   "codemirror_mode": {
    "name": "ipython",
    "version": 3
   },
   "file_extension": ".py",
   "mimetype": "text/x-python",
   "name": "python",
   "nbconvert_exporter": "python",
   "pygments_lexer": "ipython3",
   "version": "3.11.4"
  }
 },
 "nbformat": 4,
 "nbformat_minor": 5
}
